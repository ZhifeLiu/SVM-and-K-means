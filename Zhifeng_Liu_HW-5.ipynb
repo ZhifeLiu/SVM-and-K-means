{
 "cells": [
  {
   "cell_type": "markdown",
   "metadata": {},
   "source": [
    "# INF552 HW-5  Zhifeng Liu 2912549136"
   ]
  },
  {
   "cell_type": "markdown",
   "metadata": {},
   "source": [
    "## 1. Multi-class and Multi-Label Classification Using Support Vector Machines"
   ]
  },
  {
   "cell_type": "code",
   "execution_count": 4,
   "metadata": {},
   "outputs": [],
   "source": [
    "import pandas as pd\n",
    "import numpy as np\n",
    "from sklearn.model_selection import train_test_split\n",
    "from sklearn.svm import SVC\n",
    "from sklearn.model_selection import StratifiedKFold\n",
    "from sklearn.model_selection import GridSearchCV\n",
    "import warnings\n",
    "from math import log10\n",
    "warnings.filterwarnings('ignore')"
   ]
  },
  {
   "cell_type": "markdown",
   "metadata": {},
   "source": [
    "(a) Download the Anuran Calls (MFCCs) Data Set. Choose 70% of the data randomly as the training set."
   ]
  },
  {
   "cell_type": "code",
   "execution_count": 26,
   "metadata": {},
   "outputs": [],
   "source": [
    "data = pd.read_csv(\"./Anuran Calls (MFCCs)/Frogs_MFCCs.csv\", sep=\",\",header=0)\n",
    "train_data, test_data = train_test_split(data, train_size= 0.7)"
   ]
  },
  {
   "cell_type": "markdown",
   "metadata": {},
   "source": [
    "(b)ii. Train a SVM for each of the labels, using Gaussian kernels and one versus all classifiers. Determine the weight of the SVM penalty and the width of the Gaussian Kernel using 10 fold cross validation."
   ]
  },
  {
   "cell_type": "code",
   "execution_count": 3,
   "metadata": {},
   "outputs": [],
   "source": [
    "def GaussianSVM(train_x, train_y):\n",
    "    C = np.logspace(-5, 8, 10)\n",
    "    scores=[]\n",
    "    for c in C:\n",
    "        svc = SVC(kernel='rbf', C=c)\n",
    "        svc.fit(train_x, train_y)\n",
    "        scores.append(svc.score(train_x, train_y))\n",
    "    scores=np.array(scores)\n",
    "    score_ind = np.argwhere(scores>0.9).flatten()\n",
    "    c_low = C[score_ind[0]]\n",
    "    c_high = C[score_ind[-1]]\n",
    "    \n",
    "    gamma = np.append(np.logspace(-4, -1, 10), np.logspace(0, 2, 10))\n",
    "    scores2 = []\n",
    "    for g in gamma:\n",
    "        svc = SVC(kernel='rbf', gamma=g)\n",
    "        svc.fit(train_x, train_y)\n",
    "        scores2.append(svc.score(train_x, train_y))\n",
    "    scores2 = np.array(scores2)\n",
    "    index = np.argwhere(scores2 > 0.9).flatten()\n",
    "    gamma_low = gamma[index[0]]\n",
    "    gamma_high = gamma[index[-1]]\n",
    "\n",
    "    param_grid = {'C': np.logspace(log10(c_low), log10(c_high), 10),\n",
    "                  'gamma': np.logspace(log10(gamma_low), log10(gamma_high), 10)}\n",
    "    \n",
    "    kf = StratifiedKFold(n_splits=10, shuffle=True)\n",
    "    model_select = GridSearchCV(svc, param_grid, cv=kf, scoring='accuracy')\n",
    "    model_select.fit(train_x, train_y)\n",
    "    \n",
    "    return model_select"
   ]
  },
  {
   "cell_type": "code",
   "execution_count": 5,
   "metadata": {},
   "outputs": [
    {
     "name": "stdout",
     "output_type": "stream",
     "text": [
      "Familylabel SVM classifer models best parameters are {'C': 38.04056104782507, 'gamma': 2.3462288481422626}\n",
      "Genuslabel SVM classifer models best parameters are {'C': 5.994842503189409, 'gamma': 1.406527242105237}\n",
      "Specieslabel SVM classifer models best parameters are {'C': 5.994842503189409, 'gamma': 1.406527242105237}\n"
     ]
    }
   ],
   "source": [
    "labels = ['Family', 'Genus', 'Species']\n",
    "pred = pd.DataFrame()\n",
    "for l in labels:\n",
    "    train_x = train_data.iloc[:, :-4]\n",
    "    train_y = train_data[l]\n",
    "    test_x = test_data.iloc[:, :-4]\n",
    "    test_y = test_data[l]\n",
    "    model = GaussianSVM(train_x, train_y)\n",
    "    print(str(l) + 'label SVM classifer model''s best parameters are', model.best_params_)\n",
    "    pred[l] = model.predict(test_x)"
   ]
  },
  {
   "cell_type": "code",
   "execution_count": 33,
   "metadata": {},
   "outputs": [],
   "source": [
    "from sklearn.metrics import hamming_loss, accuracy_score\n",
    "from sklearn import metrics\n",
    "from sklearn.svm import LinearSVC"
   ]
  },
  {
   "cell_type": "code",
   "execution_count": 35,
   "metadata": {},
   "outputs": [
    {
     "name": "stdout",
     "output_type": "stream",
     "text": [
      "Family label SVM clssifer Hamming loss: 0.006021306160259379\n",
      "Family label SVM clssifer Accuracy score: 0.9939786938397406\n",
      "Genus label SVM clssifer Hamming loss: 0.009263547938860583\n",
      "Genus label SVM clssifer Accuracy score: 0.9907364520611394\n",
      "Species label SVM clssifer Hamming loss: 0.009726725335803613\n",
      "Species label SVM clssifer Accuracy score: 0.9902732746641963\n"
     ]
    }
   ],
   "source": [
    "\n",
    "loss= []\n",
    "score= []\n",
    "for l in labels:\n",
    "    print(str(l),'label SVM clssifer Hamming loss:', hamming_loss(test_data[l], pred[l]))\n",
    "    print(str(l),'label SVM clssifer Accuracy score:', accuracy_score(test_data[l], pred[l]))\n",
    "    loss.append(hamming_loss(test_data[l], pred[l]))\n",
    "    score.append(accuracy_score(test_data[l], pred[l]))\n",
    "\n"
   ]
  },
  {
   "cell_type": "code",
   "execution_count": 36,
   "metadata": {},
   "outputs": [
    {
     "name": "stdout",
     "output_type": "stream",
     "text": [
      "The whole dataset Hamming loss is 0.008337193144974525\n",
      "The whole dataset Exact match score is 0.9916628068550254\n"
     ]
    }
   ],
   "source": [
    "print('The whole dataset Hamming loss is', np.mean(loss))\n",
    "print('The whole dataset Exact match score is', np.mean(score))"
   ]
  },
  {
   "cell_type": "markdown",
   "metadata": {},
   "source": [
    "(b)iii. Repeat 1(b)ii with L1-penalized SVMs.Determine the weight of the SVM penalty using 10 fold cross vali- dation."
   ]
  },
  {
   "cell_type": "code",
   "execution_count": 37,
   "metadata": {},
   "outputs": [],
   "source": [
    "def linearSVC(train_x, train_y):\n",
    "    C2 = np.logspace(-5, 5, 10)\n",
    "    scores = []\n",
    "    for c in C2:\n",
    "        svc = LinearSVC(penalty='l1', C=c, dual=False)\n",
    "        svc.fit(train_x, train_y)\n",
    "        scores.append(svc.score(train_x, train_y))\n",
    "    scores = np.array(scores)\n",
    "    index = np.argwhere(scores > 0.9).flatten()\n",
    "    c2_low = C2[index[0]]\n",
    "    c2_high = C2[index[-1]]\n",
    "    \n",
    "    #do fine grid cross validation\n",
    "    param_grid = {'C': np.logspace(log10(c2_low), log10(c2_high), 10)}\n",
    "    \n",
    "    svc = LinearSVC(penalty='l1', dual=False)\n",
    "    kf = StratifiedKFold(n_splits=10, shuffle=True)\n",
    "    clf = GridSearchCV(svc, param_grid, cv=kf, scoring='accuracy')\n",
    "    clf.fit(train_x, train_y)   \n",
    "    return clf"
   ]
  },
  {
   "cell_type": "code",
   "execution_count": 38,
   "metadata": {},
   "outputs": [
    {
     "name": "stdout",
     "output_type": "stream",
     "text": [
      "Family label SVM classifer models best parameters are {'C': 108.90229622637294}\n",
      "Genus label SVM classifer models best parameters are {'C': 100000.0}\n",
      "Species label SVM classifer models best parameters are {'C': 100000.0}\n"
     ]
    }
   ],
   "source": [
    "labels = ['Family', 'Genus', 'Species']\n",
    "pred = pd.DataFrame()\n",
    "for l in labels:\n",
    "    train_x = train_data.iloc[:, :-4]\n",
    "    train_y = train_data[l]\n",
    "    test_x = test_data.iloc[:, :-4]\n",
    "    test_y = test_data[l]\n",
    "    model = linearSVC(train_x, train_y)\n",
    "    print(str(l), 'label SVM classifer model''s best parameters are', model.best_params_)\n",
    "    pred[l] = model.predict(test_x)"
   ]
  },
  {
   "cell_type": "code",
   "execution_count": 39,
   "metadata": {},
   "outputs": [
    {
     "name": "stdout",
     "output_type": "stream",
     "text": [
      "Family label SVM clssifer Hamming loss: 0.07271885132005558\n",
      "Family label SVM clssifer Accuracy score: 0.9272811486799444\n",
      "Genus label SVM clssifer Hamming loss: 0.0523390458545623\n",
      "Genus label SVM clssifer Accuracy score: 0.9476609541454377\n",
      "Species label SVM clssifer Hamming loss: 0.04075961093098657\n",
      "Species label SVM clssifer Accuracy score: 0.9592403890690134\n",
      "The whole dataset Hamming loss is 0.05527250270186815\n",
      "The whole dataset Exact match score is 0.9447274972981319\n"
     ]
    }
   ],
   "source": [
    "\n",
    "loss= []\n",
    "score= []\n",
    "for l in labels:\n",
    "    print(str(l),'label SVM clssifer Hamming loss:', hamming_loss(test_data[l], pred[l]))\n",
    "    print(str(l),'label SVM clssifer Accuracy score:', accuracy_score(test_data[l], pred[l]))\n",
    "    loss.append(hamming_loss(test_data[l], pred[l]))\n",
    "    score.append(accuracy_score(test_data[l], pred[l]))\n",
    "print('The whole dataset Hamming loss is', np.mean(loss))\n",
    "print('The whole dataset Exact match score is', np.mean(score))"
   ]
  },
  {
   "cell_type": "markdown",
   "metadata": {},
   "source": [
    "(b)iv. Repeat 1(b)iii by using SMOTE or any other method you know to remedy class imbalance. Report your conclusions about the classifiers you trained."
   ]
  },
  {
   "cell_type": "code",
   "execution_count": 29,
   "metadata": {},
   "outputs": [],
   "source": [
    "from imblearn.over_sampling import SMOTE \n",
    "def sm_linearSVC(train_x, train_y):\n",
    "    sm = SMOTE()\n",
    "    train_x_sm, train_y_sm = sm.fit_sample(train_x, train_y)\n",
    "\n",
    "    C2 = np.logspace(-3, 3, 10)\n",
    "    scores = []\n",
    "    for c in C2:\n",
    "        svc = LinearSVC(penalty='l1', C=c, dual=False)\n",
    "        svc.fit(train_x, train_y)\n",
    "        scores.append(svc.score(train_x_sm, train_y_sm))\n",
    "    scores = np.array(scores)\n",
    "    index = np.argwhere(scores > 0.7).flatten()\n",
    "    c2_low = C2[index[0]]\n",
    "    c2_high = C2[index[-1]]\n",
    "\n",
    "    param_grid = {'C': np.logspace(log10(c2_low), log10(c2_high), 10)}\n",
    "    \n",
    "    svc = LinearSVC(penalty='l1', dual=False)\n",
    "    kf = StratifiedKFold(n_splits=10, shuffle=True)\n",
    "    clf = GridSearchCV(svc, param_grid, cv=kf, scoring='accuracy')\n",
    "    clf.fit(train_x_sm, train_y_sm)   \n",
    "    return clf"
   ]
  },
  {
   "cell_type": "code",
   "execution_count": 30,
   "metadata": {},
   "outputs": [
    {
     "name": "stdout",
     "output_type": "stream",
     "text": [
      "Family label SVM classifer models best parameters are {'C': 16.681005372000584}\n",
      "Genus label SVM classifer models best parameters are {'C': 426.2158829015325}\n",
      "Species label SVM classifer models best parameters are {'C': 1000.0}\n"
     ]
    }
   ],
   "source": [
    "labels = ['Family', 'Genus', 'Species']\n",
    "pred = pd.DataFrame()\n",
    "for l in labels:\n",
    "    train_x = train_data.iloc[:, :-4]\n",
    "    train_y = train_data[l]\n",
    "    test_x = test_data.iloc[:, :-4]\n",
    "    test_y = test_data[l]\n",
    "    model = sm_linearSVC(train_x, train_y)\n",
    "    print(str(l), 'label SVM classifer model''s best parameters are', model.best_params_)\n",
    "    pred[l] = model.predict(test_x)"
   ]
  },
  {
   "cell_type": "code",
   "execution_count": null,
   "metadata": {},
   "outputs": [],
   "source": []
  },
  {
   "cell_type": "code",
   "execution_count": 34,
   "metadata": {},
   "outputs": [
    {
     "name": "stdout",
     "output_type": "stream",
     "text": [
      "Family label SVM clssifer Hamming loss: 0.07966651227420102\n",
      "Family label SVM clssifer Accuracy score: 0.9203334877257989\n",
      "Genus label SVM clssifer Hamming loss: 0.08707735062528948\n",
      "Genus label SVM clssifer Accuracy score: 0.9129226493747105\n",
      "Species label SVM clssifer Hamming loss: 0.04492820750347383\n",
      "Species label SVM clssifer Accuracy score: 0.9550717924965262\n",
      "The whole dataset Hamming loss is 0.07055735680098811\n",
      "The whole dataset Exact match score is 0.9294426431990118\n"
     ]
    }
   ],
   "source": [
    "loss= []\n",
    "score= []\n",
    "for l in labels:\n",
    "    print(str(l),'label SVM clssifer Hamming loss:', hamming_loss(test_data[l], pred[l]))\n",
    "    print(str(l),'label SVM clssifer Accuracy score:', accuracy_score(test_data[l], pred[l]))\n",
    "    loss.append(hamming_loss(test_data[l], pred[l]))\n",
    "    score.append(accuracy_score(test_data[l], pred[l]))\n",
    "print('The whole dataset Hamming loss is', np.mean(loss))\n",
    "print('The whole dataset Exact match score is', np.mean(score))"
   ]
  },
  {
   "cell_type": "markdown",
   "metadata": {},
   "source": [
    "## 2. K-Means Clustering on a Multi-Class and Multi-Label Data Set"
   ]
  },
  {
   "cell_type": "code",
   "execution_count": 2,
   "metadata": {},
   "outputs": [],
   "source": [
    "from sklearn.cluster import KMeans\n",
    "from sklearn.metrics import calinski_harabaz_score\n",
    "from tqdm import tqdm"
   ]
  },
  {
   "cell_type": "code",
   "execution_count": 6,
   "metadata": {},
   "outputs": [],
   "source": [
    "data = pd.read_csv(\"./Anuran Calls (MFCCs)/Frogs_MFCCs.csv\", sep=\",\",header=0)\n",
    "train_x = data.iloc[:, :-4]"
   ]
  },
  {
   "cell_type": "code",
   "execution_count": 17,
   "metadata": {},
   "outputs": [],
   "source": [
    "def clustering():\n",
    "    best_k = 0\n",
    "    best_score = 0\n",
    "    best_labels = []\n",
    "    for k in range(2, 50):\n",
    "        kmeans = KMeans(n_clusters=k).fit(train_x)\n",
    "        labels = kmeans.labels_\n",
    "        score = calinski_harabaz_score(train_x,labels)\n",
    "        if score > best_score:\n",
    "            best_score = score\n",
    "            best_labels = labels\n",
    "            best_k = k\n",
    "\n",
    "    print(\"The best k is\", best_k)\n",
    "    best_label = best_labels\n",
    "    \n",
    "    data_label = data[['Family', 'Genus', 'Species']].copy()\n",
    "    data_label['kmeans_label'] = best_label\n",
    "    \n",
    "    majority_label = {}\n",
    "    for l in range(best_k):\n",
    "        cluster = data_label[data_label['kmeans_label'] == l]\n",
    "        majority_triplet = {}\n",
    "        for t in ['Family', 'Genus', 'Species']:\n",
    "            majority_triplet[t] = cluster[t].value_counts().idxmax()\n",
    "        majority_label[l] = majority_triplet\n",
    "    print(\"Majority labels:\\n\", majority_label)\n",
    "    \n",
    "    misclassifed = 0\n",
    "    for l in range(best_k):\n",
    "        cluster = data_label[data_label['kmeans_label'] == l]\n",
    "        for t in ['Family', 'Genus', 'Species']:\n",
    "            misclassifed += sum(cluster[t] != majority_label[l][t])\n",
    "    hamming_loss = misclassifed / (len(data) * 3)\n",
    "    return hamming_loss"
   ]
  },
  {
   "cell_type": "markdown",
   "metadata": {},
   "source": [
    "Monte-Carlo Simulation:"
   ]
  },
  {
   "cell_type": "code",
   "execution_count": 18,
   "metadata": {},
   "outputs": [
    {
     "name": "stderr",
     "output_type": "stream",
     "text": [
      "  2%|▏         | 1/50 [00:36<29:50, 36.54s/it]"
     ]
    },
    {
     "name": "stdout",
     "output_type": "stream",
     "text": [
      "The best k is 2\n",
      "Majority labels:\n",
      " {0: {'Family': 'Leptodactylidae', 'Genus': 'Adenomera', 'Species': 'AdenomeraHylaedactylus'}, 1: {'Family': 'Hylidae', 'Genus': 'Hypsiboas', 'Species': 'HypsiboasCordobae'}}\n"
     ]
    },
    {
     "name": "stderr",
     "output_type": "stream",
     "text": [
      "\r",
      "  4%|▍         | 2/50 [01:08<28:03, 35.07s/it]"
     ]
    },
    {
     "name": "stdout",
     "output_type": "stream",
     "text": [
      "The best k is 2\n",
      "Majority labels:\n",
      " {0: {'Family': 'Hylidae', 'Genus': 'Hypsiboas', 'Species': 'HypsiboasCordobae'}, 1: {'Family': 'Leptodactylidae', 'Genus': 'Adenomera', 'Species': 'AdenomeraHylaedactylus'}}\n"
     ]
    },
    {
     "name": "stderr",
     "output_type": "stream",
     "text": [
      "\r",
      "  6%|▌         | 3/50 [01:40<26:52, 34.30s/it]"
     ]
    },
    {
     "name": "stdout",
     "output_type": "stream",
     "text": [
      "The best k is 2\n",
      "Majority labels:\n",
      " {0: {'Family': 'Leptodactylidae', 'Genus': 'Adenomera', 'Species': 'AdenomeraHylaedactylus'}, 1: {'Family': 'Hylidae', 'Genus': 'Hypsiboas', 'Species': 'HypsiboasCordobae'}}\n"
     ]
    },
    {
     "name": "stderr",
     "output_type": "stream",
     "text": [
      "\r",
      "  8%|▊         | 4/50 [02:14<26:04, 34.01s/it]"
     ]
    },
    {
     "name": "stdout",
     "output_type": "stream",
     "text": [
      "The best k is 2\n",
      "Majority labels:\n",
      " {0: {'Family': 'Hylidae', 'Genus': 'Hypsiboas', 'Species': 'HypsiboasCordobae'}, 1: {'Family': 'Leptodactylidae', 'Genus': 'Adenomera', 'Species': 'AdenomeraHylaedactylus'}}\n"
     ]
    },
    {
     "name": "stderr",
     "output_type": "stream",
     "text": [
      "\r",
      " 10%|█         | 5/50 [02:47<25:18, 33.76s/it]"
     ]
    },
    {
     "name": "stdout",
     "output_type": "stream",
     "text": [
      "The best k is 2\n",
      "Majority labels:\n",
      " {0: {'Family': 'Leptodactylidae', 'Genus': 'Adenomera', 'Species': 'AdenomeraHylaedactylus'}, 1: {'Family': 'Hylidae', 'Genus': 'Hypsiboas', 'Species': 'HypsiboasCordobae'}}\n"
     ]
    },
    {
     "name": "stderr",
     "output_type": "stream",
     "text": [
      "\r",
      " 12%|█▏        | 6/50 [03:20<24:38, 33.59s/it]"
     ]
    },
    {
     "name": "stdout",
     "output_type": "stream",
     "text": [
      "The best k is 2\n",
      "Majority labels:\n",
      " {0: {'Family': 'Hylidae', 'Genus': 'Hypsiboas', 'Species': 'HypsiboasCordobae'}, 1: {'Family': 'Leptodactylidae', 'Genus': 'Adenomera', 'Species': 'AdenomeraHylaedactylus'}}\n"
     ]
    },
    {
     "name": "stderr",
     "output_type": "stream",
     "text": [
      "\r",
      " 14%|█▍        | 7/50 [03:52<23:44, 33.13s/it]"
     ]
    },
    {
     "name": "stdout",
     "output_type": "stream",
     "text": [
      "The best k is 2\n",
      "Majority labels:\n",
      " {0: {'Family': 'Hylidae', 'Genus': 'Hypsiboas', 'Species': 'HypsiboasCordobae'}, 1: {'Family': 'Leptodactylidae', 'Genus': 'Adenomera', 'Species': 'AdenomeraHylaedactylus'}}\n"
     ]
    },
    {
     "name": "stderr",
     "output_type": "stream",
     "text": [
      "\r",
      " 16%|█▌        | 8/50 [04:24<23:03, 32.94s/it]"
     ]
    },
    {
     "name": "stdout",
     "output_type": "stream",
     "text": [
      "The best k is 2\n",
      "Majority labels:\n",
      " {0: {'Family': 'Hylidae', 'Genus': 'Hypsiboas', 'Species': 'HypsiboasCordobae'}, 1: {'Family': 'Leptodactylidae', 'Genus': 'Adenomera', 'Species': 'AdenomeraHylaedactylus'}}\n"
     ]
    },
    {
     "name": "stderr",
     "output_type": "stream",
     "text": [
      "\r",
      " 18%|█▊        | 9/50 [04:56<22:19, 32.68s/it]"
     ]
    },
    {
     "name": "stdout",
     "output_type": "stream",
     "text": [
      "The best k is 2\n",
      "Majority labels:\n",
      " {0: {'Family': 'Hylidae', 'Genus': 'Hypsiboas', 'Species': 'HypsiboasCordobae'}, 1: {'Family': 'Leptodactylidae', 'Genus': 'Adenomera', 'Species': 'AdenomeraHylaedactylus'}}\n"
     ]
    },
    {
     "name": "stderr",
     "output_type": "stream",
     "text": [
      "\r",
      " 20%|██        | 10/50 [05:29<21:42, 32.55s/it]"
     ]
    },
    {
     "name": "stdout",
     "output_type": "stream",
     "text": [
      "The best k is 2\n",
      "Majority labels:\n",
      " {0: {'Family': 'Hylidae', 'Genus': 'Hypsiboas', 'Species': 'HypsiboasCordobae'}, 1: {'Family': 'Leptodactylidae', 'Genus': 'Adenomera', 'Species': 'AdenomeraHylaedactylus'}}\n"
     ]
    },
    {
     "name": "stderr",
     "output_type": "stream",
     "text": [
      "\r",
      " 22%|██▏       | 11/50 [06:01<21:09, 32.56s/it]"
     ]
    },
    {
     "name": "stdout",
     "output_type": "stream",
     "text": [
      "The best k is 2\n",
      "Majority labels:\n",
      " {0: {'Family': 'Leptodactylidae', 'Genus': 'Adenomera', 'Species': 'AdenomeraHylaedactylus'}, 1: {'Family': 'Hylidae', 'Genus': 'Hypsiboas', 'Species': 'HypsiboasCordobae'}}\n"
     ]
    },
    {
     "name": "stderr",
     "output_type": "stream",
     "text": [
      "\r",
      " 24%|██▍       | 12/50 [06:34<20:36, 32.55s/it]"
     ]
    },
    {
     "name": "stdout",
     "output_type": "stream",
     "text": [
      "The best k is 2\n",
      "Majority labels:\n",
      " {0: {'Family': 'Hylidae', 'Genus': 'Hypsiboas', 'Species': 'HypsiboasCordobae'}, 1: {'Family': 'Leptodactylidae', 'Genus': 'Adenomera', 'Species': 'AdenomeraHylaedactylus'}}\n"
     ]
    },
    {
     "name": "stderr",
     "output_type": "stream",
     "text": [
      "\r",
      " 26%|██▌       | 13/50 [07:06<19:58, 32.40s/it]"
     ]
    },
    {
     "name": "stdout",
     "output_type": "stream",
     "text": [
      "The best k is 2\n",
      "Majority labels:\n",
      " {0: {'Family': 'Hylidae', 'Genus': 'Hypsiboas', 'Species': 'HypsiboasCordobae'}, 1: {'Family': 'Leptodactylidae', 'Genus': 'Adenomera', 'Species': 'AdenomeraHylaedactylus'}}\n"
     ]
    },
    {
     "name": "stderr",
     "output_type": "stream",
     "text": [
      "\r",
      " 28%|██▊       | 14/50 [07:38<19:26, 32.40s/it]"
     ]
    },
    {
     "name": "stdout",
     "output_type": "stream",
     "text": [
      "The best k is 2\n",
      "Majority labels:\n",
      " {0: {'Family': 'Hylidae', 'Genus': 'Hypsiboas', 'Species': 'HypsiboasCordobae'}, 1: {'Family': 'Leptodactylidae', 'Genus': 'Adenomera', 'Species': 'AdenomeraHylaedactylus'}}\n"
     ]
    },
    {
     "name": "stderr",
     "output_type": "stream",
     "text": [
      "\r",
      " 30%|███       | 15/50 [08:11<18:52, 32.36s/it]"
     ]
    },
    {
     "name": "stdout",
     "output_type": "stream",
     "text": [
      "The best k is 2\n",
      "Majority labels:\n",
      " {0: {'Family': 'Leptodactylidae', 'Genus': 'Adenomera', 'Species': 'AdenomeraHylaedactylus'}, 1: {'Family': 'Hylidae', 'Genus': 'Hypsiboas', 'Species': 'HypsiboasCordobae'}}\n"
     ]
    },
    {
     "name": "stderr",
     "output_type": "stream",
     "text": [
      "\r",
      " 32%|███▏      | 16/50 [08:43<18:22, 32.43s/it]"
     ]
    },
    {
     "name": "stdout",
     "output_type": "stream",
     "text": [
      "The best k is 2\n",
      "Majority labels:\n",
      " {0: {'Family': 'Leptodactylidae', 'Genus': 'Adenomera', 'Species': 'AdenomeraHylaedactylus'}, 1: {'Family': 'Hylidae', 'Genus': 'Hypsiboas', 'Species': 'HypsiboasCordobae'}}\n"
     ]
    },
    {
     "name": "stderr",
     "output_type": "stream",
     "text": [
      "\r",
      " 34%|███▍      | 17/50 [09:15<17:48, 32.38s/it]"
     ]
    },
    {
     "name": "stdout",
     "output_type": "stream",
     "text": [
      "The best k is 2\n",
      "Majority labels:\n",
      " {0: {'Family': 'Hylidae', 'Genus': 'Hypsiboas', 'Species': 'HypsiboasCordobae'}, 1: {'Family': 'Leptodactylidae', 'Genus': 'Adenomera', 'Species': 'AdenomeraHylaedactylus'}}\n"
     ]
    },
    {
     "name": "stderr",
     "output_type": "stream",
     "text": [
      "\r",
      " 36%|███▌      | 18/50 [09:47<17:12, 32.26s/it]"
     ]
    },
    {
     "name": "stdout",
     "output_type": "stream",
     "text": [
      "The best k is 2\n",
      "Majority labels:\n",
      " {0: {'Family': 'Leptodactylidae', 'Genus': 'Adenomera', 'Species': 'AdenomeraHylaedactylus'}, 1: {'Family': 'Hylidae', 'Genus': 'Hypsiboas', 'Species': 'HypsiboasCordobae'}}\n"
     ]
    },
    {
     "name": "stderr",
     "output_type": "stream",
     "text": [
      "\r",
      " 38%|███▊      | 19/50 [10:20<16:46, 32.46s/it]"
     ]
    },
    {
     "name": "stdout",
     "output_type": "stream",
     "text": [
      "The best k is 2\n",
      "Majority labels:\n",
      " {0: {'Family': 'Leptodactylidae', 'Genus': 'Adenomera', 'Species': 'AdenomeraHylaedactylus'}, 1: {'Family': 'Hylidae', 'Genus': 'Hypsiboas', 'Species': 'HypsiboasCordobae'}}\n"
     ]
    },
    {
     "name": "stderr",
     "output_type": "stream",
     "text": [
      "\r",
      " 40%|████      | 20/50 [10:53<16:16, 32.56s/it]"
     ]
    },
    {
     "name": "stdout",
     "output_type": "stream",
     "text": [
      "The best k is 2\n",
      "Majority labels:\n",
      " {0: {'Family': 'Hylidae', 'Genus': 'Hypsiboas', 'Species': 'HypsiboasCordobae'}, 1: {'Family': 'Leptodactylidae', 'Genus': 'Adenomera', 'Species': 'AdenomeraHylaedactylus'}}\n"
     ]
    },
    {
     "name": "stderr",
     "output_type": "stream",
     "text": [
      "\r",
      " 42%|████▏     | 21/50 [11:24<15:33, 32.20s/it]"
     ]
    },
    {
     "name": "stdout",
     "output_type": "stream",
     "text": [
      "The best k is 2\n",
      "Majority labels:\n",
      " {0: {'Family': 'Hylidae', 'Genus': 'Hypsiboas', 'Species': 'HypsiboasCordobae'}, 1: {'Family': 'Leptodactylidae', 'Genus': 'Adenomera', 'Species': 'AdenomeraHylaedactylus'}}\n"
     ]
    },
    {
     "name": "stderr",
     "output_type": "stream",
     "text": [
      "\r",
      " 44%|████▍     | 22/50 [11:57<15:07, 32.43s/it]"
     ]
    },
    {
     "name": "stdout",
     "output_type": "stream",
     "text": [
      "The best k is 2\n",
      "Majority labels:\n",
      " {0: {'Family': 'Hylidae', 'Genus': 'Hypsiboas', 'Species': 'HypsiboasCordobae'}, 1: {'Family': 'Leptodactylidae', 'Genus': 'Adenomera', 'Species': 'AdenomeraHylaedactylus'}}\n"
     ]
    },
    {
     "name": "stderr",
     "output_type": "stream",
     "text": [
      "\r",
      " 46%|████▌     | 23/50 [12:31<14:45, 32.81s/it]"
     ]
    },
    {
     "name": "stdout",
     "output_type": "stream",
     "text": [
      "The best k is 2\n",
      "Majority labels:\n",
      " {0: {'Family': 'Hylidae', 'Genus': 'Hypsiboas', 'Species': 'HypsiboasCordobae'}, 1: {'Family': 'Leptodactylidae', 'Genus': 'Adenomera', 'Species': 'AdenomeraHylaedactylus'}}\n"
     ]
    },
    {
     "name": "stderr",
     "output_type": "stream",
     "text": [
      "\r",
      " 48%|████▊     | 24/50 [13:10<14:57, 34.51s/it]"
     ]
    },
    {
     "name": "stdout",
     "output_type": "stream",
     "text": [
      "The best k is 2\n",
      "Majority labels:\n",
      " {0: {'Family': 'Leptodactylidae', 'Genus': 'Adenomera', 'Species': 'AdenomeraHylaedactylus'}, 1: {'Family': 'Hylidae', 'Genus': 'Hypsiboas', 'Species': 'HypsiboasCordobae'}}\n"
     ]
    },
    {
     "name": "stderr",
     "output_type": "stream",
     "text": [
      "\r",
      " 50%|█████     | 25/50 [13:50<15:08, 36.35s/it]"
     ]
    },
    {
     "name": "stdout",
     "output_type": "stream",
     "text": [
      "The best k is 2\n",
      "Majority labels:\n",
      " {0: {'Family': 'Hylidae', 'Genus': 'Hypsiboas', 'Species': 'HypsiboasCordobae'}, 1: {'Family': 'Leptodactylidae', 'Genus': 'Adenomera', 'Species': 'AdenomeraHylaedactylus'}}\n"
     ]
    },
    {
     "name": "stderr",
     "output_type": "stream",
     "text": [
      "\r",
      " 52%|█████▏    | 26/50 [14:28<14:45, 36.91s/it]"
     ]
    },
    {
     "name": "stdout",
     "output_type": "stream",
     "text": [
      "The best k is 2\n",
      "Majority labels:\n",
      " {0: {'Family': 'Hylidae', 'Genus': 'Hypsiboas', 'Species': 'HypsiboasCordobae'}, 1: {'Family': 'Leptodactylidae', 'Genus': 'Adenomera', 'Species': 'AdenomeraHylaedactylus'}}\n"
     ]
    },
    {
     "name": "stderr",
     "output_type": "stream",
     "text": [
      "\r",
      " 54%|█████▍    | 27/50 [15:02<13:42, 35.77s/it]"
     ]
    },
    {
     "name": "stdout",
     "output_type": "stream",
     "text": [
      "The best k is 2\n",
      "Majority labels:\n",
      " {0: {'Family': 'Leptodactylidae', 'Genus': 'Adenomera', 'Species': 'AdenomeraHylaedactylus'}, 1: {'Family': 'Hylidae', 'Genus': 'Hypsiboas', 'Species': 'HypsiboasCordobae'}}\n"
     ]
    },
    {
     "name": "stderr",
     "output_type": "stream",
     "text": [
      "\r",
      " 56%|█████▌    | 28/50 [15:06<09:37, 26.24s/it]"
     ]
    },
    {
     "name": "stdout",
     "output_type": "stream",
     "text": [
      "The best k is 2\n",
      "Majority labels:\n",
      " {0: {'Family': 'Hylidae', 'Genus': 'Hypsiboas', 'Species': 'HypsiboasCordobae'}, 1: {'Family': 'Leptodactylidae', 'Genus': 'Adenomera', 'Species': 'AdenomeraHylaedactylus'}}\n"
     ]
    },
    {
     "name": "stderr",
     "output_type": "stream",
     "text": [
      "\r",
      " 58%|█████▊    | 29/50 [15:39<09:54, 28.33s/it]"
     ]
    },
    {
     "name": "stdout",
     "output_type": "stream",
     "text": [
      "The best k is 2\n",
      "Majority labels:\n",
      " {0: {'Family': 'Hylidae', 'Genus': 'Hypsiboas', 'Species': 'HypsiboasCordobae'}, 1: {'Family': 'Leptodactylidae', 'Genus': 'Adenomera', 'Species': 'AdenomeraHylaedactylus'}}\n"
     ]
    },
    {
     "name": "stderr",
     "output_type": "stream",
     "text": [
      "\r",
      " 60%|██████    | 30/50 [16:12<09:54, 29.73s/it]"
     ]
    },
    {
     "name": "stdout",
     "output_type": "stream",
     "text": [
      "The best k is 2\n",
      "Majority labels:\n",
      " {0: {'Family': 'Leptodactylidae', 'Genus': 'Adenomera', 'Species': 'AdenomeraHylaedactylus'}, 1: {'Family': 'Hylidae', 'Genus': 'Hypsiboas', 'Species': 'HypsiboasCordobae'}}\n"
     ]
    },
    {
     "name": "stderr",
     "output_type": "stream",
     "text": [
      "\r",
      " 62%|██████▏   | 31/50 [16:46<09:49, 31.02s/it]"
     ]
    },
    {
     "name": "stdout",
     "output_type": "stream",
     "text": [
      "The best k is 2\n",
      "Majority labels:\n",
      " {0: {'Family': 'Leptodactylidae', 'Genus': 'Adenomera', 'Species': 'AdenomeraHylaedactylus'}, 1: {'Family': 'Hylidae', 'Genus': 'Hypsiboas', 'Species': 'HypsiboasCordobae'}}\n"
     ]
    },
    {
     "name": "stderr",
     "output_type": "stream",
     "text": [
      "\r",
      " 64%|██████▍   | 32/50 [17:20<09:35, 31.95s/it]"
     ]
    },
    {
     "name": "stdout",
     "output_type": "stream",
     "text": [
      "The best k is 2\n",
      "Majority labels:\n",
      " {0: {'Family': 'Hylidae', 'Genus': 'Hypsiboas', 'Species': 'HypsiboasCordobae'}, 1: {'Family': 'Leptodactylidae', 'Genus': 'Adenomera', 'Species': 'AdenomeraHylaedactylus'}}\n"
     ]
    },
    {
     "name": "stderr",
     "output_type": "stream",
     "text": [
      "\r",
      " 66%|██████▌   | 33/50 [17:54<09:13, 32.58s/it]"
     ]
    },
    {
     "name": "stdout",
     "output_type": "stream",
     "text": [
      "The best k is 2\n",
      "Majority labels:\n",
      " {0: {'Family': 'Leptodactylidae', 'Genus': 'Adenomera', 'Species': 'AdenomeraHylaedactylus'}, 1: {'Family': 'Hylidae', 'Genus': 'Hypsiboas', 'Species': 'HypsiboasCordobae'}}\n"
     ]
    },
    {
     "name": "stderr",
     "output_type": "stream",
     "text": [
      "\r",
      " 68%|██████▊   | 34/50 [18:28<08:46, 32.93s/it]"
     ]
    },
    {
     "name": "stdout",
     "output_type": "stream",
     "text": [
      "The best k is 2\n",
      "Majority labels:\n",
      " {0: {'Family': 'Hylidae', 'Genus': 'Hypsiboas', 'Species': 'HypsiboasCordobae'}, 1: {'Family': 'Leptodactylidae', 'Genus': 'Adenomera', 'Species': 'AdenomeraHylaedactylus'}}\n"
     ]
    },
    {
     "name": "stderr",
     "output_type": "stream",
     "text": [
      "\r",
      " 70%|███████   | 35/50 [19:02<08:19, 33.28s/it]"
     ]
    },
    {
     "name": "stdout",
     "output_type": "stream",
     "text": [
      "The best k is 2\n",
      "Majority labels:\n",
      " {0: {'Family': 'Leptodactylidae', 'Genus': 'Adenomera', 'Species': 'AdenomeraHylaedactylus'}, 1: {'Family': 'Hylidae', 'Genus': 'Hypsiboas', 'Species': 'HypsiboasCordobae'}}\n"
     ]
    },
    {
     "name": "stderr",
     "output_type": "stream",
     "text": [
      "\r",
      " 72%|███████▏  | 36/50 [19:38<07:56, 34.02s/it]"
     ]
    },
    {
     "name": "stdout",
     "output_type": "stream",
     "text": [
      "The best k is 2\n",
      "Majority labels:\n",
      " {0: {'Family': 'Leptodactylidae', 'Genus': 'Adenomera', 'Species': 'AdenomeraHylaedactylus'}, 1: {'Family': 'Hylidae', 'Genus': 'Hypsiboas', 'Species': 'HypsiboasCordobae'}}\n"
     ]
    },
    {
     "name": "stderr",
     "output_type": "stream",
     "text": [
      "\r",
      " 74%|███████▍  | 37/50 [20:13<07:28, 34.47s/it]"
     ]
    },
    {
     "name": "stdout",
     "output_type": "stream",
     "text": [
      "The best k is 2\n",
      "Majority labels:\n",
      " {0: {'Family': 'Leptodactylidae', 'Genus': 'Adenomera', 'Species': 'AdenomeraHylaedactylus'}, 1: {'Family': 'Hylidae', 'Genus': 'Hypsiboas', 'Species': 'HypsiboasCordobae'}}\n"
     ]
    },
    {
     "name": "stderr",
     "output_type": "stream",
     "text": [
      "\r",
      " 76%|███████▌  | 38/50 [20:48<06:56, 34.71s/it]"
     ]
    },
    {
     "name": "stdout",
     "output_type": "stream",
     "text": [
      "The best k is 2\n",
      "Majority labels:\n",
      " {0: {'Family': 'Leptodactylidae', 'Genus': 'Adenomera', 'Species': 'AdenomeraHylaedactylus'}, 1: {'Family': 'Hylidae', 'Genus': 'Hypsiboas', 'Species': 'HypsiboasCordobae'}}\n"
     ]
    },
    {
     "name": "stderr",
     "output_type": "stream",
     "text": [
      "\r",
      " 78%|███████▊  | 39/50 [21:24<06:23, 34.87s/it]"
     ]
    },
    {
     "name": "stdout",
     "output_type": "stream",
     "text": [
      "The best k is 2\n",
      "Majority labels:\n",
      " {0: {'Family': 'Hylidae', 'Genus': 'Hypsiboas', 'Species': 'HypsiboasCordobae'}, 1: {'Family': 'Leptodactylidae', 'Genus': 'Adenomera', 'Species': 'AdenomeraHylaedactylus'}}\n"
     ]
    },
    {
     "name": "stderr",
     "output_type": "stream",
     "text": [
      "\r",
      " 80%|████████  | 40/50 [21:58<05:47, 34.72s/it]"
     ]
    },
    {
     "name": "stdout",
     "output_type": "stream",
     "text": [
      "The best k is 2\n",
      "Majority labels:\n",
      " {0: {'Family': 'Hylidae', 'Genus': 'Hypsiboas', 'Species': 'HypsiboasCordobae'}, 1: {'Family': 'Leptodactylidae', 'Genus': 'Adenomera', 'Species': 'AdenomeraHylaedactylus'}}\n"
     ]
    },
    {
     "name": "stderr",
     "output_type": "stream",
     "text": [
      "\r",
      " 82%|████████▏ | 41/50 [22:32<05:11, 34.63s/it]"
     ]
    },
    {
     "name": "stdout",
     "output_type": "stream",
     "text": [
      "The best k is 2\n",
      "Majority labels:\n",
      " {0: {'Family': 'Hylidae', 'Genus': 'Hypsiboas', 'Species': 'HypsiboasCordobae'}, 1: {'Family': 'Leptodactylidae', 'Genus': 'Adenomera', 'Species': 'AdenomeraHylaedactylus'}}\n"
     ]
    },
    {
     "name": "stderr",
     "output_type": "stream",
     "text": [
      "\r",
      " 84%|████████▍ | 42/50 [23:08<04:39, 34.91s/it]"
     ]
    },
    {
     "name": "stdout",
     "output_type": "stream",
     "text": [
      "The best k is 2\n",
      "Majority labels:\n",
      " {0: {'Family': 'Leptodactylidae', 'Genus': 'Adenomera', 'Species': 'AdenomeraHylaedactylus'}, 1: {'Family': 'Hylidae', 'Genus': 'Hypsiboas', 'Species': 'HypsiboasCordobae'}}\n"
     ]
    },
    {
     "name": "stderr",
     "output_type": "stream",
     "text": [
      "\r",
      " 86%|████████▌ | 43/50 [23:44<04:06, 35.20s/it]"
     ]
    },
    {
     "name": "stdout",
     "output_type": "stream",
     "text": [
      "The best k is 2\n",
      "Majority labels:\n",
      " {0: {'Family': 'Leptodactylidae', 'Genus': 'Adenomera', 'Species': 'AdenomeraHylaedactylus'}, 1: {'Family': 'Hylidae', 'Genus': 'Hypsiboas', 'Species': 'HypsiboasCordobae'}}\n"
     ]
    },
    {
     "name": "stderr",
     "output_type": "stream",
     "text": [
      "\r",
      " 88%|████████▊ | 44/50 [24:18<03:29, 34.90s/it]"
     ]
    },
    {
     "name": "stdout",
     "output_type": "stream",
     "text": [
      "The best k is 2\n",
      "Majority labels:\n",
      " {0: {'Family': 'Leptodactylidae', 'Genus': 'Adenomera', 'Species': 'AdenomeraHylaedactylus'}, 1: {'Family': 'Hylidae', 'Genus': 'Hypsiboas', 'Species': 'HypsiboasCordobae'}}\n"
     ]
    },
    {
     "name": "stderr",
     "output_type": "stream",
     "text": [
      "\r",
      " 90%|█████████ | 45/50 [24:50<02:50, 34.01s/it]"
     ]
    },
    {
     "name": "stdout",
     "output_type": "stream",
     "text": [
      "The best k is 2\n",
      "Majority labels:\n",
      " {0: {'Family': 'Leptodactylidae', 'Genus': 'Adenomera', 'Species': 'AdenomeraHylaedactylus'}, 1: {'Family': 'Hylidae', 'Genus': 'Hypsiboas', 'Species': 'HypsiboasCordobae'}}\n"
     ]
    },
    {
     "name": "stderr",
     "output_type": "stream",
     "text": [
      "\r",
      " 92%|█████████▏| 46/50 [25:23<02:14, 33.69s/it]"
     ]
    },
    {
     "name": "stdout",
     "output_type": "stream",
     "text": [
      "The best k is 2\n",
      "Majority labels:\n",
      " {0: {'Family': 'Hylidae', 'Genus': 'Hypsiboas', 'Species': 'HypsiboasCordobae'}, 1: {'Family': 'Leptodactylidae', 'Genus': 'Adenomera', 'Species': 'AdenomeraHylaedactylus'}}\n"
     ]
    },
    {
     "name": "stderr",
     "output_type": "stream",
     "text": [
      "\r",
      " 94%|█████████▍| 47/50 [25:55<01:39, 33.13s/it]"
     ]
    },
    {
     "name": "stdout",
     "output_type": "stream",
     "text": [
      "The best k is 2\n",
      "Majority labels:\n",
      " {0: {'Family': 'Leptodactylidae', 'Genus': 'Adenomera', 'Species': 'AdenomeraHylaedactylus'}, 1: {'Family': 'Hylidae', 'Genus': 'Hypsiboas', 'Species': 'HypsiboasCordobae'}}\n"
     ]
    },
    {
     "name": "stderr",
     "output_type": "stream",
     "text": [
      "\r",
      " 96%|█████████▌| 48/50 [26:27<01:05, 32.95s/it]"
     ]
    },
    {
     "name": "stdout",
     "output_type": "stream",
     "text": [
      "The best k is 2\n",
      "Majority labels:\n",
      " {0: {'Family': 'Leptodactylidae', 'Genus': 'Adenomera', 'Species': 'AdenomeraHylaedactylus'}, 1: {'Family': 'Hylidae', 'Genus': 'Hypsiboas', 'Species': 'HypsiboasCordobae'}}\n"
     ]
    },
    {
     "name": "stderr",
     "output_type": "stream",
     "text": [
      "\r",
      " 98%|█████████▊| 49/50 [27:00<00:32, 32.87s/it]"
     ]
    },
    {
     "name": "stdout",
     "output_type": "stream",
     "text": [
      "The best k is 2\n",
      "Majority labels:\n",
      " {0: {'Family': 'Hylidae', 'Genus': 'Hypsiboas', 'Species': 'HypsiboasCordobae'}, 1: {'Family': 'Leptodactylidae', 'Genus': 'Adenomera', 'Species': 'AdenomeraHylaedactylus'}}\n"
     ]
    },
    {
     "name": "stderr",
     "output_type": "stream",
     "text": [
      "\r",
      "100%|██████████| 50/50 [27:33<00:00, 32.96s/it]"
     ]
    },
    {
     "name": "stdout",
     "output_type": "stream",
     "text": [
      "The best k is 2\n",
      "Majority labels:\n",
      " {0: {'Family': 'Hylidae', 'Genus': 'Hypsiboas', 'Species': 'HypsiboasCordobae'}, 1: {'Family': 'Leptodactylidae', 'Genus': 'Adenomera', 'Species': 'AdenomeraHylaedactylus'}}\n"
     ]
    },
    {
     "name": "stderr",
     "output_type": "stream",
     "text": [
      "\n"
     ]
    }
   ],
   "source": [
    "hamming_loss = []\n",
    "for i in tqdm(range(50)):\n",
    "    hamming_loss.append(clustering())"
   ]
  },
  {
   "cell_type": "code",
   "execution_count": 19,
   "metadata": {},
   "outputs": [
    {
     "name": "stdout",
     "output_type": "stream",
     "text": [
      "The average of hamming loss is 0.29854065323141077\n",
      "The standard deviation of hamming loss is 5.551115123125783e-17\n"
     ]
    }
   ],
   "source": [
    "mean = np.mean(hamming_loss)\n",
    "std = np.std(hamming_loss)\n",
    "print(\"The average of hamming loss is\", mean)\n",
    "print(\"The standard deviation of hamming loss is\", std)"
   ]
  },
  {
   "cell_type": "markdown",
   "metadata": {},
   "source": [
    "## 3. ISLR 10.7.2"
   ]
  },
  {
   "cell_type": "markdown",
   "metadata": {},
   "source": [
    "(a)"
   ]
  },
  {
   "cell_type": "code",
   "execution_count": 21,
   "metadata": {},
   "outputs": [
    {
     "data": {
      "text/plain": [
       "{'icoord': [[5.0, 5.0, 15.0, 15.0],\n",
       "  [25.0, 25.0, 35.0, 35.0],\n",
       "  [10.0, 10.0, 30.0, 30.0]],\n",
       " 'dcoord': [[0.0, 0.4472135954999579, 0.4472135954999579, 0.0],\n",
       "  [0.0, 0.7648529270389177, 0.7648529270389177, 0.0],\n",
       "  [0.4472135954999579,\n",
       "   1.2010412149464313,\n",
       "   1.2010412149464313,\n",
       "   0.7648529270389177]],\n",
       " 'ivl': [1, 2, 3, 4],\n",
       " 'leaves': [0, 1, 2, 3],\n",
       " 'color_list': ['g', 'r', 'b']}"
      ]
     },
     "execution_count": 21,
     "metadata": {},
     "output_type": "execute_result"
    },
    {
     "data": {
      "image/png": "[encoded data removed]",
      "text/plain": [
       "<Figure size 432x288 with 1 Axes>"
      ]
     },
     "metadata": {
      "needs_background": "light"
     },
     "output_type": "display_data"
    }
   ],
   "source": [
    "from scipy.cluster.hierarchy import dendrogram, linkage\n",
    "%matplotlib inline\n",
    "d = np.matrix([[0, 0.3, 0.4, 0.7], [0.3, 0, 0.5, 0.8], [0.4, 0.5, 0, 0.45], [0.7, 0.8, 0.45, 0]])\n",
    "z = linkage(d, method='complete')\n",
    "dendrogram(z, labels=[1,2,3,4])"
   ]
  },
  {
   "cell_type": "markdown",
   "metadata": {},
   "source": [
    "(b)"
   ]
  },
  {
   "cell_type": "code",
   "execution_count": 22,
   "metadata": {},
   "outputs": [
    {
     "data": {
      "text/plain": [
       "{'icoord': [[25.0, 25.0, 35.0, 35.0],\n",
       "  [15.0, 15.0, 30.0, 30.0],\n",
       "  [5.0, 5.0, 22.5, 22.5]],\n",
       " 'dcoord': [[0.0, 0.4472135954999579, 0.4472135954999579, 0.0],\n",
       "  [0.0, 0.65, 0.65, 0.4472135954999579],\n",
       "  [0.0, 0.7648529270389177, 0.7648529270389177, 0.65]],\n",
       " 'ivl': [4, 3, 1, 2],\n",
       " 'leaves': [3, 2, 0, 1],\n",
       " 'color_list': ['g', 'b', 'b']}"
      ]
     },
     "execution_count": 22,
     "metadata": {},
     "output_type": "execute_result"
    },
    {
     "data": {
      "image/png": "[encoded data removed]",
      "text/plain": [
       "<Figure size 432x288 with 1 Axes>"
      ]
     },
     "metadata": {
      "needs_background": "light"
     },
     "output_type": "display_data"
    }
   ],
   "source": [
    "z2 = linkage(d, method='single')\n",
    "dendrogram(z2, labels=[1,2,3,4])"
   ]
  },
  {
   "cell_type": "markdown",
   "metadata": {},
   "source": [
    "(c) In (a) result, One cluster contains 1st, 2nd observaton, the other cluster contains 3rd, 4th observation"
   ]
  },
  {
   "cell_type": "markdown",
   "metadata": {},
   "source": [
    "(d) in (b) result, one cluster contains 4th observation, the other cluster contains 3rd, 1st, 2rd obervation"
   ]
  },
  {
   "cell_type": "markdown",
   "metadata": {},
   "source": [
    "(e)"
   ]
  },
  {
   "cell_type": "code",
   "execution_count": 23,
   "metadata": {},
   "outputs": [
    {
     "data": {
      "text/plain": [
       "{'icoord': [[5.0, 5.0, 15.0, 15.0],\n",
       "  [25.0, 25.0, 35.0, 35.0],\n",
       "  [10.0, 10.0, 30.0, 30.0]],\n",
       " 'dcoord': [[0.0, 0.4472135954999579, 0.4472135954999579, 0.0],\n",
       "  [0.0, 0.7648529270389177, 0.7648529270389177, 0.0],\n",
       "  [0.4472135954999579,\n",
       "   1.2010412149464313,\n",
       "   1.2010412149464313,\n",
       "   0.7648529270389177]],\n",
       " 'ivl': [2, 1, 4, 3],\n",
       " 'leaves': [0, 1, 2, 3],\n",
       " 'color_list': ['g', 'r', 'b']}"
      ]
     },
     "execution_count": 23,
     "metadata": {},
     "output_type": "execute_result"
    },
    {
     "data": {
      "image/png": "[encoded data removed]",
      "text/plain": [
       "<Figure size 432x288 with 1 Axes>"
      ]
     },
     "metadata": {
      "needs_background": "light"
     },
     "output_type": "display_data"
    }
   ],
   "source": [
    "dendrogram(z, labels=[2,1,4,3])"
   ]
  },
  {
   "cell_type": "code",
   "execution_count": null,
   "metadata": {},
   "outputs": [],
   "source": []
  }
 ],
 "metadata": {
  "kernelspec": {
   "display_name": "Python 3",
   "language": "python",
   "name": "python3"
  },
  "language_info": {
   "codemirror_mode": {
    "name": "ipython",
    "version": 3
   },
   "file_extension": ".py",
   "mimetype": "text/x-python",
   "name": "python",
   "nbconvert_exporter": "python",
   "pygments_lexer": "ipython3",
   "version": "3.7.0"
  }
 },
 "nbformat": 4,
 "nbformat_minor": 2
}
